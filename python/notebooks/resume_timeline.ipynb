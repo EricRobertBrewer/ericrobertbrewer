{
 "cells": [
  {
   "cell_type": "code",
   "execution_count": 1,
   "id": "2fdbb578-08c3-435a-b06a-b17c35b47344",
   "metadata": {},
   "outputs": [
    {
     "name": "stdout",
     "output_type": "stream",
     "text": [
      "/Users/brewer/Code/Eric/ericrobertbrewer/python\n"
     ]
    }
   ],
   "source": [
    "%cd .."
   ]
  },
  {
   "cell_type": "markdown",
   "id": "3bb84b39-3c35-403c-9a86-cceb636f7e8a",
   "metadata": {},
   "source": [
    "# resume_timeline\n",
    "\n",
    "Adapted from StackOverflow: [Timeline bar graph using python and matplotlib](https://stackoverflow.com/questions/51505291/timeline-bar-graph-using-python-and-matplotlib)"
   ]
  },
  {
   "cell_type": "code",
   "execution_count": 2,
   "id": "2102c38a-8003-478e-92b1-020a82feb2b0",
   "metadata": {},
   "outputs": [],
   "source": [
    "import datetime as dt\n",
    "\n",
    "from matplotlib import dates as mdates\n",
    "from matplotlib import font_manager\n",
    "from matplotlib import pyplot as plt\n",
    "from matplotlib.collections import PolyCollection\n",
    "from matplotlib.lines import Line2D"
   ]
  },
  {
   "cell_type": "code",
   "execution_count": 3,
   "id": "a459dd55-f500-4dfc-b775-06553a48bd33",
   "metadata": {},
   "outputs": [
    {
     "data": {
      "text/plain": [
       "'/Users/brewer/Library/Fonts/DroidSerif-Regular.ttf'"
      ]
     },
     "execution_count": 3,
     "metadata": {},
     "output_type": "execute_result"
    }
   ],
   "source": [
    "FONT_PATH = '/Users/brewer/Library/Fonts/'\n",
    "FONT_NAME = 'Droid Serif'\n",
    "\n",
    "for font in font_manager.findSystemFonts(fontpaths=FONT_PATH, fontext='ttf'):\n",
    "    font_manager.fontManager.addfont(font)\n",
    "\n",
    "font_manager.findfont(FONT_NAME)"
   ]
  },
  {
   "cell_type": "code",
   "execution_count": 4,
   "id": "0a3ea43e-081c-465f-80c7-affb1a812032",
   "metadata": {},
   "outputs": [],
   "source": [
    "CATEGORY_WORK = 'Work'\n",
    "CATEGORY_SCHOOL = 'Education'\n",
    "CATEGORY_VOLUNTEER = 'Volunteer'\n",
    "CATEGORIES = [CATEGORY_VOLUNTEER, CATEGORY_SCHOOL, CATEGORY_WORK]\n",
    "CATEGORY_TO_INDEX = {c: i for i, c in enumerate(CATEGORIES)}\n",
    "CATEGORY_TO_COLOR = {c: 'C{:d}'.format(i) for i, c in enumerate(CATEGORIES)}\n",
    "\n",
    "items = [\n",
    "    (dt.date(2008,  9,  4), dt.date(2012,  5, 12), 'BS @ SSU', CATEGORY_SCHOOL),\n",
    "    (dt.date(2012,  4, 16), dt.date(2013,  8, 11), 'Carmel', CATEGORY_WORK),\n",
    "    (dt.date(2013,  9, 25), dt.date(2015,  9,  9), 'Mission', CATEGORY_VOLUNTEER),\n",
    "    (dt.date(2016,  2,  2), dt.date(2016,  7, 18), 'Gaia', CATEGORY_WORK),\n",
    "    (dt.date(2016,  8, 10), dt.date(2017, 12, 20), 'Autonet', CATEGORY_WORK),\n",
    "    (dt.date(2017,  9,  4), dt.date(2020,  6, 18), 'MS @ BYU', CATEGORY_SCHOOL),\n",
    "    (dt.date(2019, 11, 11), dt.date(2022,  8,  9), 'FamilySearch', CATEGORY_WORK),\n",
    "    (dt.date(2022,  8, 25), dt.date(2023,  5, 22), 'PhD', CATEGORY_SCHOOL)\n",
    "]"
   ]
  },
  {
   "cell_type": "code",
   "execution_count": 5,
   "id": "b9992b82-3772-4197-8b07-8e0a79afaa90",
   "metadata": {},
   "outputs": [
    {
     "data": {
      "image/png": "[encoded data removed]",
      "text/plain": [
       "<Figure size 1200x100 with 1 Axes>"
      ]
     },
     "metadata": {},
     "output_type": "display_data"
    }
   ],
   "source": [
    "polygons = list()\n",
    "colors = list()\n",
    "for item in items:\n",
    "    y = CATEGORY_TO_INDEX[item[3]] + 1\n",
    "    polygons.append((\n",
    "        (mdates.date2num(item[0]), y - 0.425),\n",
    "        (mdates.date2num(item[1]), y - 0.425),\n",
    "        (mdates.date2num(item[1]), y + 0.425),\n",
    "        (mdates.date2num(item[0]), y + 0.425)\n",
    "    ))\n",
    "    colors.append(CATEGORY_TO_COLOR[item[3]])\n",
    "\n",
    "bars = PolyCollection(polygons, closed=True, facecolors=colors)\n",
    "\n",
    "fig, ax = plt.subplots(figsize=(12, 1))\n",
    "ax.add_collection(bars)\n",
    "ax.autoscale()\n",
    "\n",
    "locator = mdates.YearLocator()\n",
    "formatter = mdates.AutoDateFormatter(locator)\n",
    "ax.xaxis.set_major_locator(locator)\n",
    "ax.xaxis.set_major_formatter(formatter)\n",
    "plt.xticks(fontname=FONT_NAME)\n",
    "ax.set_xlim(left=polygons[0][0][0], right=polygons[-1][1][0])\n",
    "\n",
    "ax.set_yticks(list(range(1, 4)))\n",
    "ax.set_yticklabels(CATEGORIES, fontname=FONT_NAME)\n",
    "\n",
    "fontdict = {'color': 'white', 'fontfamily': FONT_NAME, 'fontsize': 12, 'fontweight': 'bold'}\n",
    "for i, item in enumerate(items):\n",
    "    polygon = polygons[i]\n",
    "    if i == 3:\n",
    "        x = polygon[0][0] - 75\n",
    "        y = CATEGORY_TO_INDEX[item[3]] + 0.95\n",
    "        gaia_fontdict = {'color': 'black', 'fontfamily': FONT_NAME, 'fontsize': 12, 'fontweight': 'normal'}\n",
    "        ax.text(x, y, item[2], fontdict=gaia_fontdict, ha='right', va='center')\n",
    "        ax.add_line(Line2D((x + 25, x + 125), (y, y), linewidth=0.75, color='black'))\n",
    "    else:\n",
    "        x = (polygon[0][0] + polygon[1][0]) / 2\n",
    "        y = CATEGORY_TO_INDEX[item[3]] + 0.95\n",
    "        ax.text(x, y, item[2], fontdict=fontdict, ha='center', va='center')\n",
    "\n",
    "plt.show()"
   ]
  },
  {
   "cell_type": "code",
   "execution_count": null,
   "id": "b88f412b-8284-4dbe-a7cf-e7133c992cb4",
   "metadata": {},
   "outputs": [],
   "source": []
  }
 ],
 "metadata": {
  "kernelspec": {
   "display_name": "ericrobertbrewer",
   "language": "python",
   "name": "ericrobertbrewer"
  },
  "language_info": {
   "codemirror_mode": {
    "name": "ipython",
    "version": 3
   },
   "file_extension": ".py",
   "mimetype": "text/x-python",
   "name": "python",
   "nbconvert_exporter": "python",
   "pygments_lexer": "ipython3",
   "version": "3.8.0"
  }
 },
 "nbformat": 4,
 "nbformat_minor": 5
}
